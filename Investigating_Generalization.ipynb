{
  "nbformat": 4,
  "nbformat_minor": 0,
  "metadata": {
    "colab": {
      "name": "Investigating-Generalization.ipynb",
      "provenance": [],
      "collapsed_sections": [],
      "authorship_tag": "ABX9TyN+JFdRz5WxuPv/Ety5LrDT",
      "include_colab_link": true
    },
    "kernelspec": {
      "name": "python3",
      "display_name": "Python 3"
    },
    "language_info": {
      "name": "python"
    },
    "accelerator": "GPU"
  },
  "cells": [
    {
      "cell_type": "markdown",
      "metadata": {
        "id": "view-in-github",
        "colab_type": "text"
      },
      "source": [
        "<a href=\"https://colab.research.google.com/github/CShorten/AIWeeklyUpdates/blob/main/Investigating_Generalization.ipynb\" target=\"_parent\"><img src=\"https://colab.research.google.com/assets/colab-badge.svg\" alt=\"Open In Colab\"/></a>"
      ]
    },
    {
      "cell_type": "markdown",
      "metadata": {
        "id": "xZvHkKvvDeUI"
      },
      "source": [
        "<h1> Utilizing AugmentationZoo, TensorFlow Addons, and Imgaug </h1>"
      ]
    },
    {
      "cell_type": "code",
      "metadata": {
        "id": "uEgDm5TmSRME"
      },
      "source": [
        "!git clone https://github.com/CShorten/AugmentationZoo.git\n",
        "import os\n",
        "os.chdir(\"AugmentationZoo\")"
      ],
      "execution_count": null,
      "outputs": []
    },
    {
      "cell_type": "code",
      "metadata": {
        "id": "JsMjDh8gT94J"
      },
      "source": [
        "!pip install tensorflow-addons"
      ],
      "execution_count": null,
      "outputs": []
    },
    {
      "cell_type": "code",
      "metadata": {
        "id": "DYfGDSiLSYfp"
      },
      "source": [
        "!pip install --upgrade imgaug"
      ],
      "execution_count": null,
      "outputs": []
    },
    {
      "cell_type": "markdown",
      "metadata": {
        "id": "BDJ7iD3MDpw9"
      },
      "source": [
        "<h1>\n",
        "Testing Inductive Bias in Computer Vision </h1>\n",
        "<p>\n",
        "In Computer Vision, <b>Global</b> and <b>Local</b> priors bias the processing of an image data structure.</p>\n",
        "<ul>\n",
        "  <li> <b>Local</b> priors focus on smaller windows of the image, such as contiguous 7 x 7 pixel squares. </li>\n",
        "  <li><b>Global</b> priors attend on the entire 256 x 256 image at once.</li>\n",
        "</ul>\n",
        "\n",
        "<h1> Architecture Bias </h1>\n",
        "  <ul>\n",
        "    <li>The Convolutional Network has a strong <b>Local</b> bias.</li>\n",
        "    <li>The Vision Transformer has a strong <b>Global</b> bias.</li>\n",
        "  </ul>\n"
      ]
    },
    {
      "cell_type": "code",
      "metadata": {
        "id": "uLdBQn0fScP2"
      },
      "source": [
        "from Datasets import get_cifar_10\n",
        "x_train, y_train, x_test, y_test = get_cifar_10()\n",
        "\n",
        "from Models import ResNet50_with_upsampling, create_vit_classifier, compile_model\n",
        "ResNet50 = ResNet50_with_upsampling(x_train)\n",
        "ViT = create_vit_classifier(x_train)\n",
        "compile_model(ResNet50)\n",
        "compile_model(ViT) # merge into one line of code"
      ],
      "execution_count": 3,
      "outputs": []
    },
    {
      "cell_type": "markdown",
      "metadata": {
        "id": "YCEIizWxEo4J"
      },
      "source": [
        "<h1> Data Augmentation Bias </h1>"
      ]
    },
    {
      "cell_type": "markdown",
      "metadata": {
        "id": "ZabR4mAgFTUj"
      },
      "source": [
        "Similarly, data augmentations contain <b> Global </b> and <b> Local </b> priors.\n",
        "<ul>\n",
        "  <li> The crop augmentation \n",
        "  <li> The rotate augmentation"
      ]
    },
    {
      "cell_type": "code",
      "metadata": {
        "id": "lghxDzSYEerB"
      },
      "source": [
        "from imgaug import augmenters as iaa\n",
        "rotate = iaa.Affine(rotate=(-45,45))\n",
        "crop = iaa.Crop(percent=(0, 0.2))"
      ],
      "execution_count": null,
      "outputs": []
    },
    {
      "cell_type": "markdown",
      "metadata": {
        "id": "Ui9ejdHv4IcJ"
      },
      "source": [
        "<h1> There are no Inductive Biases in the Models with Random Weights </h1>"
      ]
    },
    {
      "cell_type": "code",
      "metadata": {
        "colab": {
          "base_uri": "https://localhost:8080/",
          "height": 111
        },
        "id": "06_tIeOyaf-4",
        "outputId": "2577f7de-895f-4f34-de06-276534146ba2"
      },
      "source": [
        "from AugEval import model_list_aug_results\n",
        "train_results, test_results = model_list_aug_results(\n",
        "    [ResNet50, ViT], [\"ResNet50\", \"ViT\"],\n",
        "    [rotate, crop], [\"Rotate\", \"Crop\"],\n",
        "    x_train, y_train, x_test, y_test\n",
        ")\n",
        "\n",
        "from Checkpoints import save_file\n",
        "save_file(train_results, \"train_results.csv\")\n",
        "import pandas as pd\n",
        "df = pd.read_csv(\"train_results.csv\")\n",
        "df.head()"
      ],
      "execution_count": 11,
      "outputs": [
        {
          "output_type": "execute_result",
          "data": {
            "text/html": [
              "<div>\n",
              "<style scoped>\n",
              "    .dataframe tbody tr th:only-of-type {\n",
              "        vertical-align: middle;\n",
              "    }\n",
              "\n",
              "    .dataframe tbody tr th {\n",
              "        vertical-align: top;\n",
              "    }\n",
              "\n",
              "    .dataframe thead th {\n",
              "        text-align: right;\n",
              "    }\n",
              "</style>\n",
              "<table border=\"1\" class=\"dataframe\">\n",
              "  <thead>\n",
              "    <tr style=\"text-align: right;\">\n",
              "      <th></th>\n",
              "      <th>Model Name</th>\n",
              "      <th>Original</th>\n",
              "      <th>Rotate</th>\n",
              "      <th>Crop</th>\n",
              "    </tr>\n",
              "  </thead>\n",
              "  <tbody>\n",
              "    <tr>\n",
              "      <th>0</th>\n",
              "      <td>ResNet50</td>\n",
              "      <td>0.09988</td>\n",
              "      <td>0.1000</td>\n",
              "      <td>0.09996</td>\n",
              "    </tr>\n",
              "    <tr>\n",
              "      <th>1</th>\n",
              "      <td>ViT</td>\n",
              "      <td>0.08654</td>\n",
              "      <td>0.0884</td>\n",
              "      <td>0.08510</td>\n",
              "    </tr>\n",
              "  </tbody>\n",
              "</table>\n",
              "</div>"
            ],
            "text/plain": [
              "  Model Name  Original  Rotate     Crop\n",
              "0   ResNet50   0.09988  0.1000  0.09996\n",
              "1        ViT   0.08654  0.0884  0.08510"
            ]
          },
          "metadata": {},
          "execution_count": 11
        }
      ]
    },
    {
      "cell_type": "markdown",
      "metadata": {
        "id": "DDc4zAol4WQ9"
      },
      "source": [
        "<h1> Training the Models <h1>\n",
        "<ul>\n",
        "  <li> Each model takes about 70 seconds per epoch. </li>\n",
        "  <li> Each model is trained for 100 epochs. </li>\n",
        "  <li> The total training time is ~120 minutes / 2 hours </li>\n",
        "</ul>\n",
        "\n",
        "Epoch count is a potential confounder that will be isolated in future work."
      ]
    },
    {
      "cell_type": "code",
      "metadata": {
        "colab": {
          "base_uri": "https://localhost:8080/"
        },
        "id": "0B4U-u6_aia2",
        "outputId": "dff60bff-dd81-469e-b318-d3f73ee2d6eb"
      },
      "source": [
        "ResNet50.fit(x_train, y_train, batch_size=256, epochs=100)"
      ],
      "execution_count": 13,
      "outputs": [
        {
          "output_type": "stream",
          "name": "stdout",
          "text": [
            "Epoch 1/100\n",
            "196/196 [==============================] - 81s 367ms/step - loss: 3.1735 - accuracy: 0.2251\n",
            "Epoch 2/100\n",
            "196/196 [==============================] - 71s 364ms/step - loss: 1.4773 - accuracy: 0.4574\n",
            "Epoch 3/100\n",
            "196/196 [==============================] - 72s 365ms/step - loss: 1.2473 - accuracy: 0.5448\n",
            "Epoch 4/100\n",
            "196/196 [==============================] - 72s 366ms/step - loss: 1.0707 - accuracy: 0.6150\n",
            "Epoch 5/100\n",
            "196/196 [==============================] - 72s 366ms/step - loss: 0.9432 - accuracy: 0.6613\n",
            "Epoch 6/100\n",
            "196/196 [==============================] - 72s 366ms/step - loss: 0.8121 - accuracy: 0.7094\n",
            "Epoch 7/100\n",
            "196/196 [==============================] - 72s 366ms/step - loss: 0.6912 - accuracy: 0.7530\n",
            "Epoch 8/100\n",
            "196/196 [==============================] - 72s 366ms/step - loss: 0.5789 - accuracy: 0.7953\n",
            "Epoch 9/100\n",
            "196/196 [==============================] - 72s 366ms/step - loss: 0.4882 - accuracy: 0.8266\n",
            "Epoch 10/100\n",
            "196/196 [==============================] - 72s 366ms/step - loss: 0.4596 - accuracy: 0.8383\n",
            "Epoch 11/100\n",
            "196/196 [==============================] - 72s 365ms/step - loss: 0.3734 - accuracy: 0.8691\n",
            "Epoch 12/100\n",
            "196/196 [==============================] - 72s 366ms/step - loss: 0.3208 - accuracy: 0.8853\n",
            "Epoch 13/100\n",
            "196/196 [==============================] - 72s 366ms/step - loss: 0.2760 - accuracy: 0.9008\n",
            "Epoch 14/100\n",
            "196/196 [==============================] - 72s 365ms/step - loss: 0.2230 - accuracy: 0.9206\n",
            "Epoch 15/100\n",
            "196/196 [==============================] - 71s 365ms/step - loss: 0.2023 - accuracy: 0.9286\n",
            "Epoch 16/100\n",
            "196/196 [==============================] - 72s 365ms/step - loss: 0.1787 - accuracy: 0.9367\n",
            "Epoch 17/100\n",
            "196/196 [==============================] - 72s 365ms/step - loss: 0.1739 - accuracy: 0.9371\n",
            "Epoch 18/100\n",
            "196/196 [==============================] - 72s 365ms/step - loss: 0.1948 - accuracy: 0.9326\n",
            "Epoch 19/100\n",
            "196/196 [==============================] - 72s 365ms/step - loss: 0.1418 - accuracy: 0.9498\n",
            "Epoch 20/100\n",
            "196/196 [==============================] - 72s 365ms/step - loss: 0.1414 - accuracy: 0.9498\n",
            "Epoch 21/100\n",
            "196/196 [==============================] - 72s 365ms/step - loss: 0.1277 - accuracy: 0.9546\n",
            "Epoch 22/100\n",
            "196/196 [==============================] - 72s 365ms/step - loss: 0.1228 - accuracy: 0.9576\n",
            "Epoch 23/100\n",
            "196/196 [==============================] - 72s 366ms/step - loss: 0.1246 - accuracy: 0.9564\n",
            "Epoch 24/100\n",
            "196/196 [==============================] - 72s 365ms/step - loss: 0.1557 - accuracy: 0.9478\n",
            "Epoch 25/100\n",
            "196/196 [==============================] - 71s 365ms/step - loss: 0.1131 - accuracy: 0.9613\n",
            "Epoch 26/100\n",
            "196/196 [==============================] - 72s 365ms/step - loss: 0.1060 - accuracy: 0.9627\n",
            "Epoch 27/100\n",
            "196/196 [==============================] - 72s 365ms/step - loss: 0.1236 - accuracy: 0.9571\n",
            "Epoch 28/100\n",
            "196/196 [==============================] - 71s 365ms/step - loss: 0.0944 - accuracy: 0.9673\n",
            "Epoch 29/100\n",
            "196/196 [==============================] - 72s 365ms/step - loss: 0.0922 - accuracy: 0.9699\n",
            "Epoch 30/100\n",
            "196/196 [==============================] - 71s 365ms/step - loss: 0.7455 - accuracy: 0.7483\n",
            "Epoch 31/100\n",
            "196/196 [==============================] - 71s 364ms/step - loss: 0.4450 - accuracy: 0.8450\n",
            "Epoch 32/100\n",
            "196/196 [==============================] - 71s 364ms/step - loss: 0.1870 - accuracy: 0.9359\n",
            "Epoch 33/100\n",
            "196/196 [==============================] - 71s 365ms/step - loss: 0.0944 - accuracy: 0.9684\n",
            "Epoch 34/100\n",
            "196/196 [==============================] - 71s 365ms/step - loss: 0.0842 - accuracy: 0.9710\n",
            "Epoch 35/100\n",
            "196/196 [==============================] - 71s 365ms/step - loss: 0.1677 - accuracy: 0.9415\n",
            "Epoch 36/100\n",
            "196/196 [==============================] - 71s 364ms/step - loss: 0.1770 - accuracy: 0.9380\n",
            "Epoch 37/100\n",
            "196/196 [==============================] - 71s 364ms/step - loss: 0.1159 - accuracy: 0.9595\n",
            "Epoch 38/100\n",
            "196/196 [==============================] - 71s 365ms/step - loss: 0.0970 - accuracy: 0.9666\n",
            "Epoch 39/100\n",
            "196/196 [==============================] - 71s 365ms/step - loss: 0.1918 - accuracy: 0.9348\n",
            "Epoch 40/100\n",
            "196/196 [==============================] - 71s 365ms/step - loss: 0.1358 - accuracy: 0.9529\n",
            "Epoch 41/100\n",
            "196/196 [==============================] - 71s 364ms/step - loss: 0.0599 - accuracy: 0.9791\n",
            "Epoch 42/100\n",
            "196/196 [==============================] - 71s 364ms/step - loss: 0.1184 - accuracy: 0.9603\n",
            "Epoch 43/100\n",
            "196/196 [==============================] - 71s 364ms/step - loss: 0.0745 - accuracy: 0.9746\n",
            "Epoch 44/100\n",
            "196/196 [==============================] - 71s 365ms/step - loss: 0.0501 - accuracy: 0.9821\n",
            "Epoch 45/100\n",
            "196/196 [==============================] - 71s 365ms/step - loss: 0.0453 - accuracy: 0.9844\n",
            "Epoch 46/100\n",
            "196/196 [==============================] - 71s 365ms/step - loss: 0.0610 - accuracy: 0.9783\n",
            "Epoch 47/100\n",
            "196/196 [==============================] - 71s 364ms/step - loss: 0.0801 - accuracy: 0.9724\n",
            "Epoch 48/100\n",
            "196/196 [==============================] - 71s 365ms/step - loss: 0.0582 - accuracy: 0.9797\n",
            "Epoch 49/100\n",
            "196/196 [==============================] - 71s 364ms/step - loss: 0.2352 - accuracy: 0.9221\n",
            "Epoch 50/100\n",
            "196/196 [==============================] - 71s 364ms/step - loss: 0.1645 - accuracy: 0.9442\n",
            "Epoch 51/100\n",
            "196/196 [==============================] - 71s 365ms/step - loss: 0.1454 - accuracy: 0.9507\n",
            "Epoch 52/100\n",
            "196/196 [==============================] - 71s 364ms/step - loss: 0.1501 - accuracy: 0.9483\n",
            "Epoch 53/100\n",
            "196/196 [==============================] - 71s 364ms/step - loss: 0.1104 - accuracy: 0.9610\n",
            "Epoch 54/100\n",
            "196/196 [==============================] - 71s 365ms/step - loss: 0.0501 - accuracy: 0.9827\n",
            "Epoch 55/100\n",
            "196/196 [==============================] - 71s 365ms/step - loss: 0.0369 - accuracy: 0.9872\n",
            "Epoch 56/100\n",
            "196/196 [==============================] - 71s 364ms/step - loss: 0.0266 - accuracy: 0.9902\n",
            "Epoch 57/100\n",
            "196/196 [==============================] - 71s 364ms/step - loss: 0.0377 - accuracy: 0.9869\n",
            "Epoch 58/100\n",
            "196/196 [==============================] - 71s 364ms/step - loss: 0.0500 - accuracy: 0.9840\n",
            "Epoch 59/100\n",
            "196/196 [==============================] - 71s 364ms/step - loss: 0.0823 - accuracy: 0.9724\n",
            "Epoch 60/100\n",
            "196/196 [==============================] - 71s 364ms/step - loss: 0.0343 - accuracy: 0.9881\n",
            "Epoch 61/100\n",
            "196/196 [==============================] - 71s 364ms/step - loss: 0.0350 - accuracy: 0.9880\n",
            "Epoch 62/100\n",
            "196/196 [==============================] - 71s 364ms/step - loss: 0.0618 - accuracy: 0.9787\n",
            "Epoch 63/100\n",
            "196/196 [==============================] - 71s 364ms/step - loss: 0.0945 - accuracy: 0.9686\n",
            "Epoch 64/100\n",
            "196/196 [==============================] - 71s 364ms/step - loss: 0.1077 - accuracy: 0.9648\n",
            "Epoch 65/100\n",
            "196/196 [==============================] - 71s 364ms/step - loss: 0.0300 - accuracy: 0.9897\n",
            "Epoch 66/100\n",
            "196/196 [==============================] - 71s 364ms/step - loss: 0.0571 - accuracy: 0.9810\n",
            "Epoch 67/100\n",
            "196/196 [==============================] - 71s 364ms/step - loss: 0.0430 - accuracy: 0.9867\n",
            "Epoch 68/100\n",
            "196/196 [==============================] - 71s 364ms/step - loss: 0.0660 - accuracy: 0.9787\n",
            "Epoch 69/100\n",
            "196/196 [==============================] - 71s 364ms/step - loss: 0.0344 - accuracy: 0.9895\n",
            "Epoch 70/100\n",
            "196/196 [==============================] - 71s 364ms/step - loss: 0.0434 - accuracy: 0.9856\n",
            "Epoch 71/100\n",
            "196/196 [==============================] - 71s 365ms/step - loss: 0.0398 - accuracy: 0.9865\n",
            "Epoch 72/100\n",
            "196/196 [==============================] - 71s 365ms/step - loss: 0.0290 - accuracy: 0.9904\n",
            "Epoch 73/100\n",
            "196/196 [==============================] - 71s 365ms/step - loss: 0.0315 - accuracy: 0.9897\n",
            "Epoch 74/100\n",
            "196/196 [==============================] - 71s 364ms/step - loss: 0.0331 - accuracy: 0.9889\n",
            "Epoch 75/100\n",
            "196/196 [==============================] - 71s 365ms/step - loss: 0.0445 - accuracy: 0.9852\n",
            "Epoch 76/100\n",
            "196/196 [==============================] - 71s 364ms/step - loss: 0.0372 - accuracy: 0.9876\n",
            "Epoch 77/100\n",
            "196/196 [==============================] - 71s 364ms/step - loss: 0.0791 - accuracy: 0.9744\n",
            "Epoch 78/100\n",
            "196/196 [==============================] - 71s 364ms/step - loss: 0.0946 - accuracy: 0.9687\n",
            "Epoch 79/100\n",
            "196/196 [==============================] - 71s 364ms/step - loss: 0.1354 - accuracy: 0.9549\n",
            "Epoch 80/100\n",
            "196/196 [==============================] - 71s 364ms/step - loss: 0.1019 - accuracy: 0.9652\n",
            "Epoch 81/100\n",
            "196/196 [==============================] - 71s 365ms/step - loss: 0.0507 - accuracy: 0.9825\n",
            "Epoch 82/100\n",
            "196/196 [==============================] - 71s 364ms/step - loss: 0.0891 - accuracy: 0.9703\n",
            "Epoch 83/100\n",
            "196/196 [==============================] - 71s 364ms/step - loss: 0.0573 - accuracy: 0.9805\n",
            "Epoch 84/100\n",
            "196/196 [==============================] - 71s 364ms/step - loss: 0.0553 - accuracy: 0.9827\n",
            "Epoch 85/100\n",
            "196/196 [==============================] - 71s 365ms/step - loss: 0.0254 - accuracy: 0.9916\n",
            "Epoch 86/100\n",
            "196/196 [==============================] - 71s 364ms/step - loss: 0.0471 - accuracy: 0.9843\n",
            "Epoch 87/100\n",
            "196/196 [==============================] - 71s 364ms/step - loss: 0.1000 - accuracy: 0.9681\n",
            "Epoch 88/100\n",
            "196/196 [==============================] - 71s 364ms/step - loss: 0.1476 - accuracy: 0.9513\n",
            "Epoch 89/100\n",
            "196/196 [==============================] - 71s 364ms/step - loss: 0.0280 - accuracy: 0.9907\n",
            "Epoch 90/100\n",
            "196/196 [==============================] - 71s 364ms/step - loss: 0.0353 - accuracy: 0.9888\n",
            "Epoch 91/100\n",
            "196/196 [==============================] - 71s 365ms/step - loss: 0.0927 - accuracy: 0.9689\n",
            "Epoch 92/100\n",
            "196/196 [==============================] - 71s 364ms/step - loss: 0.0781 - accuracy: 0.9748\n",
            "Epoch 93/100\n",
            "196/196 [==============================] - 71s 364ms/step - loss: 0.0361 - accuracy: 0.9877\n",
            "Epoch 94/100\n",
            "196/196 [==============================] - 71s 364ms/step - loss: 0.0477 - accuracy: 0.9842\n",
            "Epoch 95/100\n",
            "196/196 [==============================] - 71s 364ms/step - loss: 0.0878 - accuracy: 0.9712\n",
            "Epoch 96/100\n",
            "196/196 [==============================] - 71s 365ms/step - loss: 0.0725 - accuracy: 0.9752\n",
            "Epoch 97/100\n",
            "196/196 [==============================] - 71s 364ms/step - loss: 0.0412 - accuracy: 0.9864\n",
            "Epoch 98/100\n",
            "196/196 [==============================] - 71s 365ms/step - loss: 0.0237 - accuracy: 0.9924\n",
            "Epoch 99/100\n",
            "196/196 [==============================] - 71s 364ms/step - loss: 0.0140 - accuracy: 0.9955\n",
            "Epoch 100/100\n",
            "196/196 [==============================] - 71s 364ms/step - loss: 0.0294 - accuracy: 0.9906\n"
          ]
        },
        {
          "output_type": "execute_result",
          "data": {
            "text/plain": [
              "<keras.callbacks.History at 0x7f4aec12fd50>"
            ]
          },
          "metadata": {},
          "execution_count": 13
        }
      ]
    },
    {
      "cell_type": "code",
      "metadata": {
        "colab": {
          "base_uri": "https://localhost:8080/"
        },
        "id": "IJc4Jp8JfFWP",
        "outputId": "8ba7266c-11d9-4eb3-de38-7eccff6fcad8"
      },
      "source": [
        "ViT.fit(x_train, y_train, batch_size=256, epochs=100)"
      ],
      "execution_count": 12,
      "outputs": [
        {
          "output_type": "stream",
          "name": "stdout",
          "text": [
            "Epoch 1/100\n",
            "196/196 [==============================] - 78s 356ms/step - loss: 1.9998 - accuracy: 0.3348\n",
            "Epoch 2/100\n",
            "196/196 [==============================] - 70s 357ms/step - loss: 1.4570 - accuracy: 0.4752\n",
            "Epoch 3/100\n",
            "196/196 [==============================] - 70s 356ms/step - loss: 1.2755 - accuracy: 0.5403\n",
            "Epoch 4/100\n",
            "196/196 [==============================] - 70s 356ms/step - loss: 1.1545 - accuracy: 0.5889\n",
            "Epoch 5/100\n",
            "196/196 [==============================] - 70s 357ms/step - loss: 1.0478 - accuracy: 0.6289\n",
            "Epoch 6/100\n",
            "196/196 [==============================] - 70s 357ms/step - loss: 0.9718 - accuracy: 0.6573\n",
            "Epoch 7/100\n",
            "196/196 [==============================] - 70s 357ms/step - loss: 0.8930 - accuracy: 0.6839\n",
            "Epoch 8/100\n",
            "196/196 [==============================] - 70s 357ms/step - loss: 0.8291 - accuracy: 0.7062\n",
            "Epoch 9/100\n",
            "196/196 [==============================] - 70s 356ms/step - loss: 0.7619 - accuracy: 0.7277\n",
            "Epoch 10/100\n",
            "196/196 [==============================] - 70s 356ms/step - loss: 0.7153 - accuracy: 0.7452\n",
            "Epoch 11/100\n",
            "196/196 [==============================] - 70s 356ms/step - loss: 0.6564 - accuracy: 0.7691\n",
            "Epoch 12/100\n",
            "196/196 [==============================] - 70s 356ms/step - loss: 0.6175 - accuracy: 0.7818\n",
            "Epoch 13/100\n",
            "196/196 [==============================] - 70s 356ms/step - loss: 0.5677 - accuracy: 0.7995\n",
            "Epoch 14/100\n",
            "196/196 [==============================] - 70s 357ms/step - loss: 0.5262 - accuracy: 0.8159\n",
            "Epoch 15/100\n",
            "196/196 [==============================] - 70s 357ms/step - loss: 0.4873 - accuracy: 0.8293\n",
            "Epoch 16/100\n",
            "196/196 [==============================] - 70s 357ms/step - loss: 0.4505 - accuracy: 0.8432\n",
            "Epoch 17/100\n",
            "196/196 [==============================] - 70s 357ms/step - loss: 0.4232 - accuracy: 0.8536\n",
            "Epoch 18/100\n",
            "196/196 [==============================] - 70s 357ms/step - loss: 0.3897 - accuracy: 0.8651\n",
            "Epoch 19/100\n",
            "196/196 [==============================] - 70s 357ms/step - loss: 0.3750 - accuracy: 0.8716\n",
            "Epoch 20/100\n",
            "196/196 [==============================] - 70s 356ms/step - loss: 0.3387 - accuracy: 0.8833\n",
            "Epoch 21/100\n",
            "196/196 [==============================] - 70s 356ms/step - loss: 0.3393 - accuracy: 0.8837\n",
            "Epoch 22/100\n",
            "196/196 [==============================] - 70s 357ms/step - loss: 0.3139 - accuracy: 0.8921\n",
            "Epoch 23/100\n",
            "196/196 [==============================] - 70s 357ms/step - loss: 0.2947 - accuracy: 0.8999\n",
            "Epoch 24/100\n",
            "196/196 [==============================] - 70s 356ms/step - loss: 0.2777 - accuracy: 0.9061\n",
            "Epoch 25/100\n",
            "196/196 [==============================] - 70s 357ms/step - loss: 0.2705 - accuracy: 0.9089\n",
            "Epoch 26/100\n",
            "196/196 [==============================] - 70s 356ms/step - loss: 0.2521 - accuracy: 0.9156\n",
            "Epoch 27/100\n",
            "196/196 [==============================] - 70s 356ms/step - loss: 0.2432 - accuracy: 0.9202\n",
            "Epoch 28/100\n",
            "196/196 [==============================] - 70s 356ms/step - loss: 0.2360 - accuracy: 0.9208\n",
            "Epoch 29/100\n",
            "196/196 [==============================] - 70s 356ms/step - loss: 0.2300 - accuracy: 0.9240\n",
            "Epoch 30/100\n",
            "196/196 [==============================] - 70s 356ms/step - loss: 0.2094 - accuracy: 0.9294\n",
            "Epoch 31/100\n",
            "196/196 [==============================] - 70s 355ms/step - loss: 0.2136 - accuracy: 0.9292\n",
            "Epoch 32/100\n",
            "196/196 [==============================] - 70s 356ms/step - loss: 0.2008 - accuracy: 0.9333\n",
            "Epoch 33/100\n",
            "196/196 [==============================] - 70s 355ms/step - loss: 0.1962 - accuracy: 0.9352\n",
            "Epoch 34/100\n",
            "196/196 [==============================] - 70s 356ms/step - loss: 0.1979 - accuracy: 0.9341\n",
            "Epoch 35/100\n",
            "196/196 [==============================] - 70s 357ms/step - loss: 0.1806 - accuracy: 0.9403\n",
            "Epoch 36/100\n",
            "196/196 [==============================] - 70s 357ms/step - loss: 0.1803 - accuracy: 0.9412\n",
            "Epoch 37/100\n",
            "196/196 [==============================] - 70s 358ms/step - loss: 0.1755 - accuracy: 0.9415\n",
            "Epoch 38/100\n",
            "196/196 [==============================] - 70s 357ms/step - loss: 0.1733 - accuracy: 0.9437\n",
            "Epoch 39/100\n",
            "196/196 [==============================] - 70s 357ms/step - loss: 0.1680 - accuracy: 0.9456\n",
            "Epoch 40/100\n",
            "196/196 [==============================] - 70s 357ms/step - loss: 0.1644 - accuracy: 0.9450\n",
            "Epoch 41/100\n",
            "196/196 [==============================] - 70s 357ms/step - loss: 0.1606 - accuracy: 0.9476\n",
            "Epoch 42/100\n",
            "196/196 [==============================] - 70s 357ms/step - loss: 0.1545 - accuracy: 0.9494\n",
            "Epoch 43/100\n",
            "196/196 [==============================] - 70s 357ms/step - loss: 0.1549 - accuracy: 0.9502\n",
            "Epoch 44/100\n",
            "196/196 [==============================] - 70s 357ms/step - loss: 0.1491 - accuracy: 0.9523\n",
            "Epoch 45/100\n",
            "196/196 [==============================] - 70s 357ms/step - loss: 0.1480 - accuracy: 0.9520\n",
            "Epoch 46/100\n",
            "196/196 [==============================] - 70s 358ms/step - loss: 0.1413 - accuracy: 0.9531\n",
            "Epoch 47/100\n",
            "196/196 [==============================] - 70s 357ms/step - loss: 0.1421 - accuracy: 0.9544\n",
            "Epoch 48/100\n",
            "196/196 [==============================] - 70s 358ms/step - loss: 0.1353 - accuracy: 0.9563\n",
            "Epoch 49/100\n",
            "196/196 [==============================] - 70s 357ms/step - loss: 0.1387 - accuracy: 0.9557\n",
            "Epoch 50/100\n",
            "196/196 [==============================] - 70s 357ms/step - loss: 0.1315 - accuracy: 0.9574\n",
            "Epoch 51/100\n",
            "196/196 [==============================] - 70s 357ms/step - loss: 0.1275 - accuracy: 0.9602\n",
            "Epoch 52/100\n",
            "196/196 [==============================] - 70s 357ms/step - loss: 0.1277 - accuracy: 0.9584\n",
            "Epoch 53/100\n",
            "196/196 [==============================] - 70s 357ms/step - loss: 0.1205 - accuracy: 0.9606\n",
            "Epoch 54/100\n",
            "196/196 [==============================] - 70s 357ms/step - loss: 0.1270 - accuracy: 0.9592\n",
            "Epoch 55/100\n",
            "196/196 [==============================] - 70s 358ms/step - loss: 0.1181 - accuracy: 0.9625\n",
            "Epoch 56/100\n",
            "196/196 [==============================] - 70s 357ms/step - loss: 0.1239 - accuracy: 0.9602\n",
            "Epoch 57/100\n",
            "196/196 [==============================] - 70s 357ms/step - loss: 0.1140 - accuracy: 0.9635\n",
            "Epoch 58/100\n",
            "196/196 [==============================] - 70s 357ms/step - loss: 0.1113 - accuracy: 0.9636\n",
            "Epoch 59/100\n",
            "196/196 [==============================] - 70s 358ms/step - loss: 0.1105 - accuracy: 0.9640\n",
            "Epoch 60/100\n",
            "196/196 [==============================] - 70s 358ms/step - loss: 0.1091 - accuracy: 0.9647\n",
            "Epoch 61/100\n",
            "196/196 [==============================] - 70s 357ms/step - loss: 0.1053 - accuracy: 0.9655\n",
            "Epoch 62/100\n",
            "196/196 [==============================] - 70s 357ms/step - loss: 0.1044 - accuracy: 0.9673\n",
            "Epoch 63/100\n",
            "196/196 [==============================] - 70s 358ms/step - loss: 0.1062 - accuracy: 0.9658\n",
            "Epoch 64/100\n",
            "196/196 [==============================] - 70s 357ms/step - loss: 0.1014 - accuracy: 0.9674\n",
            "Epoch 65/100\n",
            "196/196 [==============================] - 70s 357ms/step - loss: 0.0992 - accuracy: 0.9681\n",
            "Epoch 66/100\n",
            "196/196 [==============================] - 70s 358ms/step - loss: 0.0999 - accuracy: 0.9669\n",
            "Epoch 67/100\n",
            "196/196 [==============================] - 70s 357ms/step - loss: 0.0974 - accuracy: 0.9679\n",
            "Epoch 68/100\n",
            "196/196 [==============================] - 70s 358ms/step - loss: 0.0963 - accuracy: 0.9689\n",
            "Epoch 69/100\n",
            "196/196 [==============================] - 70s 358ms/step - loss: 0.0950 - accuracy: 0.9697\n",
            "Epoch 70/100\n",
            "196/196 [==============================] - 70s 357ms/step - loss: 0.0991 - accuracy: 0.9692\n",
            "Epoch 71/100\n",
            "196/196 [==============================] - 70s 358ms/step - loss: 0.0954 - accuracy: 0.9699\n",
            "Epoch 72/100\n",
            "196/196 [==============================] - 70s 358ms/step - loss: 0.0887 - accuracy: 0.9718\n",
            "Epoch 73/100\n",
            "196/196 [==============================] - 70s 357ms/step - loss: 0.0875 - accuracy: 0.9720\n",
            "Epoch 74/100\n",
            "196/196 [==============================] - 70s 358ms/step - loss: 0.0802 - accuracy: 0.9748\n",
            "Epoch 75/100\n",
            "196/196 [==============================] - 70s 357ms/step - loss: 0.0803 - accuracy: 0.9744\n",
            "Epoch 76/100\n",
            "196/196 [==============================] - 70s 357ms/step - loss: 0.0831 - accuracy: 0.9729\n",
            "Epoch 77/100\n",
            "196/196 [==============================] - 70s 357ms/step - loss: 0.0819 - accuracy: 0.9742\n",
            "Epoch 78/100\n",
            "196/196 [==============================] - 70s 357ms/step - loss: 0.0812 - accuracy: 0.9738\n",
            "Epoch 79/100\n",
            "196/196 [==============================] - 70s 357ms/step - loss: 0.0744 - accuracy: 0.9764\n",
            "Epoch 80/100\n",
            "196/196 [==============================] - 70s 357ms/step - loss: 0.0802 - accuracy: 0.9741\n",
            "Epoch 81/100\n",
            "196/196 [==============================] - 70s 358ms/step - loss: 0.0767 - accuracy: 0.9760\n",
            "Epoch 82/100\n",
            "196/196 [==============================] - 70s 358ms/step - loss: 0.0783 - accuracy: 0.9761\n",
            "Epoch 83/100\n",
            "196/196 [==============================] - 70s 357ms/step - loss: 0.0739 - accuracy: 0.9756\n",
            "Epoch 84/100\n",
            "196/196 [==============================] - 70s 358ms/step - loss: 0.0734 - accuracy: 0.9764\n",
            "Epoch 85/100\n",
            "196/196 [==============================] - 70s 357ms/step - loss: 0.0764 - accuracy: 0.9754\n",
            "Epoch 86/100\n",
            "196/196 [==============================] - 70s 358ms/step - loss: 0.0757 - accuracy: 0.9762\n",
            "Epoch 87/100\n",
            "196/196 [==============================] - 70s 358ms/step - loss: 0.0716 - accuracy: 0.9772\n",
            "Epoch 88/100\n",
            "196/196 [==============================] - 70s 358ms/step - loss: 0.0699 - accuracy: 0.9781\n",
            "Epoch 89/100\n",
            "196/196 [==============================] - 70s 358ms/step - loss: 0.0654 - accuracy: 0.9786\n",
            "Epoch 90/100\n",
            "196/196 [==============================] - 70s 358ms/step - loss: 0.0674 - accuracy: 0.9787\n",
            "Epoch 91/100\n",
            "196/196 [==============================] - 70s 357ms/step - loss: 0.0714 - accuracy: 0.9778\n",
            "Epoch 92/100\n",
            "196/196 [==============================] - 70s 357ms/step - loss: 0.0698 - accuracy: 0.9776\n",
            "Epoch 93/100\n",
            "196/196 [==============================] - 70s 358ms/step - loss: 0.0688 - accuracy: 0.9788\n",
            "Epoch 94/100\n",
            "196/196 [==============================] - 70s 358ms/step - loss: 0.0736 - accuracy: 0.9765\n",
            "Epoch 95/100\n",
            "196/196 [==============================] - 70s 358ms/step - loss: 0.0717 - accuracy: 0.9775\n",
            "Epoch 96/100\n",
            "196/196 [==============================] - 70s 358ms/step - loss: 0.0650 - accuracy: 0.9790\n",
            "Epoch 97/100\n",
            "196/196 [==============================] - 70s 358ms/step - loss: 0.0671 - accuracy: 0.9790\n",
            "Epoch 98/100\n",
            "196/196 [==============================] - 70s 358ms/step - loss: 0.0641 - accuracy: 0.9799\n",
            "Epoch 99/100\n",
            "196/196 [==============================] - 70s 358ms/step - loss: 0.0680 - accuracy: 0.9791\n",
            "Epoch 100/100\n",
            "196/196 [==============================] - 70s 358ms/step - loss: 0.0579 - accuracy: 0.9821\n"
          ]
        },
        {
          "output_type": "execute_result",
          "data": {
            "text/plain": [
              "<keras.callbacks.History at 0x7f4b01e34750>"
            ]
          },
          "metadata": {},
          "execution_count": 12
        }
      ]
    },
    {
      "cell_type": "code",
      "metadata": {
        "id": "PTjxY237opZp"
      },
      "source": [
        "from Checkpoints import save_file\n",
        "train_results, test_results = model_list_aug_results(\n",
        "    [ResNet50, ViT], [\"ResNet50-NoAug\", \"ViT-NoAug\"],\n",
        "    [rotate, crop], [\"Rotate\", \"Crop\"],\n",
        "    x_train, y_train, x_test, y_test\n",
        ")\n",
        "save_file(train_results, \"train_results.csv\")\n",
        "save_file(test_results, \"test_results.csv\")"
      ],
      "execution_count": null,
      "outputs": []
    },
    {
      "cell_type": "markdown",
      "metadata": {
        "id": "3JakGZ2s2TuI"
      },
      "source": [
        "<h1> Commentary on Results </h1>\n",
        "\n",
        "<p> Both the ResNet50 and 20M parameter ViT are overfitted, see original train accuracy above. The ViT was quicker to overfit the training data. This illustrates the capacity of transformers to fit their training data. This is further evidenced by their appeal in self-supervised learning. In self-supervised learning, the dataset are very large and the model usually never repeats data during training. In this setting, the capacity of transformers is useful, but in smaller setings the strong inductive bias of convolutions is less prone to overfitting.</p>\n",
        "\n",
        "<h1> References </h1>\n",
        "<h6> Language Models are Few-Shot Learners. Brown et al. 2021.</h6>\n",
        "<h6>A Farewell to the Bias-Variance Tradeoff?\n",
        "An Overview of the Theory of Overparameterized Machine Learning. Yehuda Dar et al. 2021.</h6>"
      ]
    },
    {
      "cell_type": "code",
      "metadata": {
        "colab": {
          "base_uri": "https://localhost:8080/",
          "height": 111
        },
        "id": "6Abj0cqCIfKU",
        "outputId": "49bf99c5-a6e7-4ae6-aa2c-b7a442397ebd"
      },
      "source": [
        "import pandas as pd\n",
        "df = pd.read_csv(\"train_results.csv\")\n",
        "df.head()"
      ],
      "execution_count": 17,
      "outputs": [
        {
          "output_type": "execute_result",
          "data": {
            "text/html": [
              "<div>\n",
              "<style scoped>\n",
              "    .dataframe tbody tr th:only-of-type {\n",
              "        vertical-align: middle;\n",
              "    }\n",
              "\n",
              "    .dataframe tbody tr th {\n",
              "        vertical-align: top;\n",
              "    }\n",
              "\n",
              "    .dataframe thead th {\n",
              "        text-align: right;\n",
              "    }\n",
              "</style>\n",
              "<table border=\"1\" class=\"dataframe\">\n",
              "  <thead>\n",
              "    <tr style=\"text-align: right;\">\n",
              "      <th></th>\n",
              "      <th>Model Name</th>\n",
              "      <th>Original</th>\n",
              "      <th>Rotate</th>\n",
              "      <th>Crop</th>\n",
              "    </tr>\n",
              "  </thead>\n",
              "  <tbody>\n",
              "    <tr>\n",
              "      <th>0</th>\n",
              "      <td>ResNet50-NoAug</td>\n",
              "      <td>0.95392</td>\n",
              "      <td>0.47966</td>\n",
              "      <td>0.61640</td>\n",
              "    </tr>\n",
              "    <tr>\n",
              "      <th>1</th>\n",
              "      <td>ViT-NoAug</td>\n",
              "      <td>1.00000</td>\n",
              "      <td>0.57608</td>\n",
              "      <td>0.72864</td>\n",
              "    </tr>\n",
              "  </tbody>\n",
              "</table>\n",
              "</div>"
            ],
            "text/plain": [
              "       Model Name  Original   Rotate     Crop\n",
              "0  ResNet50-NoAug   0.95392  0.47966  0.61640\n",
              "1       ViT-NoAug   1.00000  0.57608  0.72864"
            ]
          },
          "metadata": {},
          "execution_count": 17
        }
      ]
    },
    {
      "cell_type": "code",
      "metadata": {
        "colab": {
          "base_uri": "https://localhost:8080/",
          "height": 111
        },
        "id": "7UOQ665u1X6p",
        "outputId": "3d0ea382-fccf-40c9-95b9-34e259e44e35"
      },
      "source": [
        "df = pd.read_csv(\"test_results.csv\")\n",
        "df.head()"
      ],
      "execution_count": 19,
      "outputs": [
        {
          "output_type": "execute_result",
          "data": {
            "text/html": [
              "<div>\n",
              "<style scoped>\n",
              "    .dataframe tbody tr th:only-of-type {\n",
              "        vertical-align: middle;\n",
              "    }\n",
              "\n",
              "    .dataframe tbody tr th {\n",
              "        vertical-align: top;\n",
              "    }\n",
              "\n",
              "    .dataframe thead th {\n",
              "        text-align: right;\n",
              "    }\n",
              "</style>\n",
              "<table border=\"1\" class=\"dataframe\">\n",
              "  <thead>\n",
              "    <tr style=\"text-align: right;\">\n",
              "      <th></th>\n",
              "      <th>Model Name</th>\n",
              "      <th>Original</th>\n",
              "      <th>Rotate</th>\n",
              "      <th>Crop</th>\n",
              "    </tr>\n",
              "  </thead>\n",
              "  <tbody>\n",
              "    <tr>\n",
              "      <th>0</th>\n",
              "      <td>ResNet50-NoAug</td>\n",
              "      <td>0.7221</td>\n",
              "      <td>0.4290</td>\n",
              "      <td>0.5545</td>\n",
              "    </tr>\n",
              "    <tr>\n",
              "      <th>1</th>\n",
              "      <td>ViT-NoAug</td>\n",
              "      <td>0.7578</td>\n",
              "      <td>0.5072</td>\n",
              "      <td>0.6508</td>\n",
              "    </tr>\n",
              "  </tbody>\n",
              "</table>\n",
              "</div>"
            ],
            "text/plain": [
              "       Model Name  Original  Rotate    Crop\n",
              "0  ResNet50-NoAug    0.7221  0.4290  0.5545\n",
              "1       ViT-NoAug    0.7578  0.5072  0.6508"
            ]
          },
          "metadata": {},
          "execution_count": 19
        }
      ]
    },
    {
      "cell_type": "markdown",
      "metadata": {
        "id": "mr6TDIHw47t9"
      },
      "source": [
        "<h1> Please Cite </h1>\n",
        "<h2> Investigating the Generalization of Image Classifiers with Augmented Test Sets. Shorten and Khoshgoftaar, In ICTAI 2021. </h2>"
      ]
    }
  ]
}